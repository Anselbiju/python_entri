{
 "cells": [
  {
   "cell_type": "code",
   "execution_count": 1,
   "id": "7ce218de-1f70-46fe-929f-e6800ceccf8b",
   "metadata": {},
   "outputs": [
    {
     "name": "stdout",
     "output_type": "stream",
     "text": [
      "Requirement already satisfied: numpy in /Library/Frameworks/Python.framework/Versions/3.12/lib/python3.12/site-packages (2.2.2)\n",
      "Note: you may need to restart the kernel to use updated packages.\n"
     ]
    }
   ],
   "source": [
    "pip install numpy\n"
   ]
  },
  {
   "cell_type": "code",
   "execution_count": 1,
   "id": "cd4b41c5-b5b4-4a4c-8d64-b53b26abac2c",
   "metadata": {},
   "outputs": [],
   "source": [
    "import numpy as np"
   ]
  },
  {
   "cell_type": "code",
   "execution_count": 12,
   "id": "d4e6c4f0-6f7b-4920-a98c-82f7e7ee132f",
   "metadata": {},
   "outputs": [
    {
     "data": {
      "text/plain": [
       "array([[ 1,  2,  3,  4,  5],\n",
       "       [ 6,  7,  8,  9, 10]])"
      ]
     },
     "execution_count": 12,
     "metadata": {},
     "output_type": "execute_result"
    }
   ],
   "source": [
    "#QS 1: Create a numpy array containing the numbers from 1 to 10, and then reshape it to a 2x5 matrix.\n",
    "\n",
    "arr1 = np.array([1,2,3,4,5,6,7,8,9,10])\n",
    "arr1.reshape(2,5)"
   ]
  },
  {
   "cell_type": "code",
   "execution_count": 13,
   "id": "789638ff-3ad9-4d46-82c9-ba3dd9dde0f0",
   "metadata": {},
   "outputs": [
    {
     "name": "stdout",
     "output_type": "stream",
     "text": [
      "[ 6  7  8  9 10 11 12 13 14 15]\n"
     ]
    }
   ],
   "source": [
    "#QS 2: Create a numpy array containing the numbers from 1 to 20, and then extract the elements between the 5th and 15th index.\n",
    "\n",
    "arr2 = np.arange(1,21)\n",
    "extract = arr2[5:15]\n",
    "print(extract)"
   ]
  },
  {
   "cell_type": "code",
   "execution_count": 15,
   "id": "d88763f7-99ac-4f50-b6b5-f3ad614c4c53",
   "metadata": {},
   "outputs": [
    {
     "name": "stdout",
     "output_type": "stream",
     "text": [
      "Requirement already satisfied: pandas in /Library/Frameworks/Python.framework/Versions/3.12/lib/python3.12/site-packages (2.2.3)\n",
      "Requirement already satisfied: numpy>=1.26.0 in /Library/Frameworks/Python.framework/Versions/3.12/lib/python3.12/site-packages (from pandas) (2.2.2)\n",
      "Requirement already satisfied: python-dateutil>=2.8.2 in /Library/Frameworks/Python.framework/Versions/3.12/lib/python3.12/site-packages (from pandas) (2.9.0.post0)\n",
      "Requirement already satisfied: pytz>=2020.1 in /Library/Frameworks/Python.framework/Versions/3.12/lib/python3.12/site-packages (from pandas) (2025.1)\n",
      "Requirement already satisfied: tzdata>=2022.7 in /Library/Frameworks/Python.framework/Versions/3.12/lib/python3.12/site-packages (from pandas) (2025.1)\n",
      "Requirement already satisfied: six>=1.5 in /Library/Frameworks/Python.framework/Versions/3.12/lib/python3.12/site-packages (from python-dateutil>=2.8.2->pandas) (1.17.0)\n",
      "Note: you may need to restart the kernel to use updated packages.\n"
     ]
    }
   ],
   "source": [
    "pip install pandas"
   ]
  },
  {
   "cell_type": "code",
   "execution_count": 3,
   "id": "4f05ea82-a004-4502-8781-8e9538c50704",
   "metadata": {},
   "outputs": [
    {
     "name": "stdout",
     "output_type": "stream",
     "text": [
      "apples     3\n",
      "bananas    2\n",
      "oranges    1\n",
      "pears      4\n",
      "dtype: int64\n"
     ]
    }
   ],
   "source": [
    "#QS 3: Create a Pandas series with the following data: {'apples': 3, 'bananas': 2, 'oranges': 1}.\n",
    "       #Then, add a new item to the series with the key 'pears' and the value 4.\n",
    "\n",
    "import pandas as pd\n",
    "\n",
    "values = pd.Series({'apples': 3, 'bananas': 2, 'oranges': 1})\n",
    "\n",
    "values['pears'] = 4\n",
    "print(values)\n"
   ]
  },
  {
   "cell_type": "code",
   "execution_count": 5,
   "id": "0b0e55b9-025d-46fd-8798-96829c816bca",
   "metadata": {},
   "outputs": [
    {
     "name": "stdout",
     "output_type": "stream",
     "text": [
      "      Name  Age  Gender\n",
      "0    Alice   25  Female\n",
      "1      Bob   30    Male\n",
      "2  Charlie   22    Male\n",
      "3    David   28    Male\n",
      "4     Emma   24  Female\n",
      "5    Frank   27    Male\n",
      "6    Grace   29  Female\n",
      "7   Hannah   23  Female\n",
      "8      Ian   26    Male\n",
      "9     Jack   31    Male\n"
     ]
    }
   ],
   "source": [
    "#QS 4: Create a dataframe with the following columns: name, age, and gender. The dataframe should have 10 rows of data.\n",
    "\n",
    "data = {\n",
    "    'Name': ['Alice', 'Bob', 'Charlie', 'David', 'Emma', \n",
    "             'Frank', 'Grace', 'Hannah', 'Ian', 'Jack'],\n",
    "    'Age': [25, 30, 22, 28, 24, 27, 29, 23, 26, 31],\n",
    "    'Gender': ['Female', 'Male', 'Male', 'Male', 'Female', \n",
    "               'Male', 'Female', 'Female', 'Male', 'Male']\n",
    "}\n",
    "\n",
    "df = pd.DataFrame(data)\n",
    "\n",
    "print(df)\n"
   ]
  },
  {
   "cell_type": "code",
   "execution_count": 6,
   "id": "776b4fe9-e6ff-4900-b438-56ad51434beb",
   "metadata": {},
   "outputs": [
    {
     "name": "stdout",
     "output_type": "stream",
     "text": [
      "      Name  Age  Gender  Occupation\n",
      "0    Alice   25  Female  Programmer\n",
      "1      Bob   30    Male     Manager\n",
      "2  Charlie   22    Male     Analyst\n",
      "3    David   28    Male  Programmer\n",
      "4     Emma   24  Female     Manager\n",
      "5    Frank   27    Male     Analyst\n",
      "6    Grace   29  Female  Programmer\n",
      "7   Hannah   23  Female     Manager\n",
      "8      Ian   26    Male     Analyst\n",
      "9     Jack   31    Male  Programmer\n"
     ]
    }
   ],
   "source": [
    "#QS 5: Add a new column to the data frame created in question 1, called occupation. \n",
    "      #The values for this column should be Programmer, Manager, and Analyst, corresponding to the rows in the dataframe.\n",
    "\n",
    "occupations = ['Programmer', 'Manager', 'Analyst', 'Programmer', 'Manager', \n",
    "               'Analyst', 'Programmer', 'Manager', 'Analyst', 'Programmer']\n",
    "\n",
    "df['Occupation'] = occupations\n",
    "\n",
    "print(df)\n"
   ]
  },
  {
   "cell_type": "code",
   "execution_count": 7,
   "id": "9cddbed3-c50a-4961-9968-dbc45de4f3ff",
   "metadata": {},
   "outputs": [
    {
     "name": "stdout",
     "output_type": "stream",
     "text": [
      "   Name  Age Gender  Occupation\n",
      "1   Bob   30   Male     Manager\n",
      "9  Jack   31   Male  Programmer\n"
     ]
    }
   ],
   "source": [
    "#QS 6: Select the rows of the dataframe where the age is greater than or equal to 30.\n",
    "\n",
    "df1 = df.loc[df['Age'] >= 30]\n",
    "print(df1)\n"
   ]
  },
  {
   "cell_type": "code",
   "execution_count": 10,
   "id": "bc2b479e-013c-41c8-b77f-d507a8a5ced7",
   "metadata": {},
   "outputs": [
    {
     "name": "stdout",
     "output_type": "stream",
     "text": [
      "      Name  Age  Gender  Occupation\n",
      "0    Alice   25  Female  Programmer\n",
      "1      Bob   30    Male     Manager\n",
      "2  Charlie   22    Male     Analyst\n",
      "3    David   28    Male  Programmer\n",
      "4     Emma   24  Female     Manager\n",
      "5    Frank   27    Male     Analyst\n",
      "6    Grace   29  Female  Programmer\n",
      "7   Hannah   23  Female     Manager\n",
      "8      Ian   26    Male     Analyst\n",
      "9     Jack   31    Male  Programmer\n"
     ]
    }
   ],
   "source": [
    "#QS 7: Convert this dataframe to a csv file and read that csv file, finally display the contents.\n",
    "\n",
    "df.to_excel(\"data.xlsx\", index=False) \n",
    "df_import = pd.read_excel(\"data.xlsx\")\n",
    "\n",
    "print(df_import)\n"
   ]
  },
  {
   "cell_type": "code",
   "execution_count": null,
   "id": "4c647e9f-725e-4cc1-9fbd-65a78e419bfd",
   "metadata": {},
   "outputs": [],
   "source": []
  }
 ],
 "metadata": {
  "kernelspec": {
   "display_name": "Python 3 (ipykernel)",
   "language": "python",
   "name": "python3"
  },
  "language_info": {
   "codemirror_mode": {
    "name": "ipython",
    "version": 3
   },
   "file_extension": ".py",
   "mimetype": "text/x-python",
   "name": "python",
   "nbconvert_exporter": "python",
   "pygments_lexer": "ipython3",
   "version": "3.12.4"
  }
 },
 "nbformat": 4,
 "nbformat_minor": 5
}
